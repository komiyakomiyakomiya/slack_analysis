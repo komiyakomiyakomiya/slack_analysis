{
 "cells": [
  {
   "cell_type": "code",
   "execution_count": 2,
   "metadata": {},
   "outputs": [
    {
     "name": "stderr",
     "output_type": "stream",
     "text": [
      "/Users/naokikomiya/dev_komiya/dlg_slack_competition/.venv/lib/python3.7/site-packages/ipykernel_launcher.py:50: SettingWithCopyWarning: \n",
      "A value is trying to be set on a copy of a slice from a DataFrame\n",
      "\n",
      "See the caveats in the documentation: http://pandas.pydata.org/pandas-docs/stable/user_guide/indexing.html#returning-a-view-versus-a-copy\n"
     ]
    }
   ],
   "source": [
    "import numpy as np\n",
    "import pandas as pd\n",
    "import japanize_matplotlib\n",
    "import matplotlib as mpl\n",
    "import matplotlib.pyplot as plt\n",
    "import seaborn as sns\n",
    "\n",
    "\n",
    "df_status = pd.read_csv('input/selfintro_users_status.csv')\n",
    "\n",
    "offline_set = {\n",
    "    '村上 智之',\n",
    "    'nishioka kenichi',\n",
    "    'Satoru Mikami',\n",
    "    'banquet.kuma',\n",
    "    'Katsuya Nagano',\n",
    "    '尾銭泰徳 ozeni.yasunori',\n",
    "    'Komiya',\n",
    "    'はやと-休学中の文系学生',\n",
    "    '吉村　政彦',\n",
    "    '澤 祐斗',\n",
    "    'sota_sakuma',\n",
    "    'Maho Uchida',\n",
    "    'yuji.imuta',\n",
    "    '清重 愛一郎',\n",
    "    'Kotaro Isobe',\n",
    "    '岸田 凌',\n",
    "    '杉本　光一',\n",
    "    'れごん',\n",
    "    '上畑 安須輝',\n",
    "    'たぎｰ',\n",
    "    'Yam',\n",
    "    'SHINNOSUKE KOTAKE',\n",
    "    'seiyakitazume',\n",
    "    'akumi6 ',\n",
    "    '笹尾卓史',\n",
    "    'Yumi.M',\n",
    "    'S',\n",
    "    'Soliton0929',\n",
    "    'Kotaro Fukushima',\n",
    "    'junpe',\n",
    "    'Vo Nhat Huy',\n",
    "    'Tasuku Sato'\n",
    "}\n",
    "\n",
    "df_status['join_offline'] = 0\n",
    "for i in range(len(df_status['join_offline'])):\n",
    "    # display(df_status.head())\n",
    "    if df_status['user'][i] in offline_set:\n",
    "        df_status['join_offline'][i] = 1\n"
   ]
  },
  {
   "cell_type": "code",
   "execution_count": 3,
   "metadata": {},
   "outputs": [
    {
     "data": {
      "text/html": [
       "<div>\n",
       "<style scoped>\n",
       "    .dataframe tbody tr th:only-of-type {\n",
       "        vertical-align: middle;\n",
       "    }\n",
       "\n",
       "    .dataframe tbody tr th {\n",
       "        vertical-align: top;\n",
       "    }\n",
       "\n",
       "    .dataframe thead th {\n",
       "        text-align: right;\n",
       "    }\n",
       "</style>\n",
       "<table border=\"1\" class=\"dataframe\">\n",
       "  <thead>\n",
       "    <tr style=\"text-align: right;\">\n",
       "      <th>join_offline</th>\n",
       "      <th>0</th>\n",
       "      <th>1</th>\n",
       "    </tr>\n",
       "    <tr>\n",
       "      <th>rank</th>\n",
       "      <th></th>\n",
       "      <th></th>\n",
       "    </tr>\n",
       "  </thead>\n",
       "  <tbody>\n",
       "    <tr>\n",
       "      <th>a</th>\n",
       "      <td>2</td>\n",
       "      <td>9</td>\n",
       "    </tr>\n",
       "    <tr>\n",
       "      <th>b</th>\n",
       "      <td>5</td>\n",
       "      <td>5</td>\n",
       "    </tr>\n",
       "    <tr>\n",
       "      <th>c</th>\n",
       "      <td>28</td>\n",
       "      <td>8</td>\n",
       "    </tr>\n",
       "  </tbody>\n",
       "</table>\n",
       "</div>"
      ],
      "text/plain": [
       "join_offline   0  1\n",
       "rank               \n",
       "a              2  9\n",
       "b              5  5\n",
       "c             28  8"
      ]
     },
     "metadata": {},
     "output_type": "display_data"
    },
    {
     "data": {
      "text/html": [
       "<div>\n",
       "<style scoped>\n",
       "    .dataframe tbody tr th:only-of-type {\n",
       "        vertical-align: middle;\n",
       "    }\n",
       "\n",
       "    .dataframe tbody tr th {\n",
       "        vertical-align: top;\n",
       "    }\n",
       "\n",
       "    .dataframe thead th {\n",
       "        text-align: right;\n",
       "    }\n",
       "</style>\n",
       "<table border=\"1\" class=\"dataframe\">\n",
       "  <thead>\n",
       "    <tr style=\"text-align: right;\">\n",
       "      <th>join_offline</th>\n",
       "      <th>0</th>\n",
       "      <th>1</th>\n",
       "    </tr>\n",
       "    <tr>\n",
       "      <th>rank</th>\n",
       "      <th></th>\n",
       "      <th></th>\n",
       "    </tr>\n",
       "  </thead>\n",
       "  <tbody>\n",
       "    <tr>\n",
       "      <th>a</th>\n",
       "      <td>0.181818</td>\n",
       "      <td>0.818182</td>\n",
       "    </tr>\n",
       "    <tr>\n",
       "      <th>b</th>\n",
       "      <td>0.500000</td>\n",
       "      <td>0.500000</td>\n",
       "    </tr>\n",
       "    <tr>\n",
       "      <th>c</th>\n",
       "      <td>0.777778</td>\n",
       "      <td>0.222222</td>\n",
       "    </tr>\n",
       "  </tbody>\n",
       "</table>\n",
       "</div>"
      ],
      "text/plain": [
       "join_offline         0         1\n",
       "rank                            \n",
       "a             0.181818  0.818182\n",
       "b             0.500000  0.500000\n",
       "c             0.777778  0.222222"
      ]
     },
     "metadata": {},
     "output_type": "display_data"
    },
    {
     "data": {
      "image/png": "[encoded data removed]",
      "text/plain": [
       "<Figure size 432x288 with 1 Axes>"
      ]
     },
     "metadata": {
      "needs_background": "light"
     },
     "output_type": "display_data"
    }
   ],
   "source": [
    "ignore_list = [\n",
    "    'Slackbot',\n",
    "    'GitHub',\n",
    "    '村上 智之',\n",
    "    '國分咲良',\n",
    "    '岡村龍弥'\n",
    "]\n",
    "df_status.drop(\n",
    "    df_status.index[df_status['user'].isin(ignore_list)], inplace=True)\n",
    "\n",
    "\n",
    "display(pd.crosstab(df_status['rank'], df_status['join_offline']))\n",
    "display(pd.crosstab(df_status['rank'],\n",
    "                    df_status['join_offline'], normalize='index'))\n",
    "\n",
    "sns.countplot(x='rank', hue='join_offline', data=df_status)\n",
    "plt.title('オフ会参加経験とアクティブランク')\n",
    "plt.xticks([0, 1, 2], ['アクティブ', '準アクティブ', '非アクティブ'])\n",
    "plt.legend(['参加経験ナシ', '参加経験アリ'])\n",
    "plt.show()"
   ]
  }
 ],
 "metadata": {
  "file_extension": ".py",
  "kernelspec": {
   "display_name": "'Python Interactive'",
   "language": "python",
   "name": "112259d8-40ef-4589-b6c6-09c0ef80b2ba"
  },
  "language_info": {
   "codemirror_mode": {
    "name": "ipython",
    "version": 3
   },
   "file_extension": ".py",
   "mimetype": "text/x-python",
   "name": "python",
   "nbconvert_exporter": "python",
   "pygments_lexer": "ipython3",
   "version": "3.7.4"
  },
  "mimetype": "text/x-python",
  "name": "python",
  "npconvert_exporter": "python",
  "pygments_lexer": "ipython3",
  "version": 3
 },
 "nbformat": 4,
 "nbformat_minor": 4
}
